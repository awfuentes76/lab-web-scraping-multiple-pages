{
 "cells": [
  {
   "cell_type": "code",
   "execution_count": null,
   "metadata": {},
   "outputs": [],
   "source": [
    "import re\n",
    "import requests\n",
    "from bs4 import BeautifulSoup\n",
    "import pandas as pd\n",
    "\n",
    "response = requests.get('https://www.billboard.com/charts/hot-100/')\n",
    "soup = BeautifulSoup(response.text)\n",
    "items = soup.find_all(name='ul', class_='o-chart-results-list-row')\n",
    "\n",
    "\n",
    "ranking = []\n",
    "\n",
    "for item in items:\n",
    "    try:\n",
    "        # Determinar posicion\n",
    "        position = item.find(name='span').string\n",
    "        position = re.sub(f'\\n', '', position)\n",
    "        position = re.sub(f'\\t', '', position)\n",
    "        position = int(position)\n",
    "        title = item.find(name='h3', class_='c-title').string\n",
    "        title = re.sub(f'\\n', '', title)\n",
    "        title = re.sub(f'\\t', '', title)\n",
    "        artista = item.find(name='span', class_='a-no-trucate').string\n",
    "        artista = re.sub(f'\\n', '', artista)\n",
    "        artista = re.sub(f'\\t', '', artista)\n",
    "        ranking.append({\n",
    "            'posicion': position,\n",
    "            'title': title,\n",
    "            'artista': artista\n",
    "        })\n",
    "    except Exception as e:\n",
    "        print(f'Error al iterar: {e}')\n",
    "\n",
    "\n",
    "df = pd.DataFrame(ranking)\n",
    "df.to_csv('billboard_100.csv', index=False)\n"
   ]
  },
  {
   "cell_type": "markdown",
   "metadata": {},
   "source": [
    "response = requests.get('https://www.fbi.gov/wanted/topten')\n",
    "soup = BeautifulSoup(response.text)\n",
    "items = soup.find_all(name='h3', class_='title')\n",
    "\n",
    "\n",
    "list_names = []\n",
    "\n",
    "for item in items:\n",
    "    try:\n",
    "        # Determinar posicion\n",
    "        nombre = item.find(name='title').string\n",
    "        position = re.sub(f'\\n', '', position)\n",
    "        position = re.sub(f'\\t', '', position)\n",
    "        position = int(position)\n",
    "        title = item.find(name='h3', class_='c-title').string\n",
    "        title = re.sub(f'\\n', '', title)\n",
    "        title = re.sub(f'\\t', '', title)\n",
    "        artista = item.find(name='span', class_='a-no-trucate').string\n",
    "        artista = re.sub(f'\\n', '', artista)\n",
    "        artista = re.sub(f'\\t', '', artista)\n",
    "        ranking.append({\n",
    "            'posicion': position,\n",
    "            'title': title,\n",
    "            'artista': artista\n",
    "        })\n",
    "    except Exception as e:\n",
    "        print(f'Error al iterar: {e}')\n"
   ]
  },
  {
   "cell_type": "code",
   "execution_count": null,
   "metadata": {},
   "outputs": [],
   "source": [
    "\n",
    "\n",
    "import requests\n",
    "import json\n",
    "\n",
    "response = requests.get('https://api.fbi.gov/wanted/v1/list')\n",
    "data = json.loads(response.content)\n",
    "print(data['total'])\n",
    "print(data['items'][0]['title'])"
   ]
  },
  {
   "cell_type": "code",
   "execution_count": null,
   "metadata": {},
   "outputs": [],
   "source": [
    "for buscado in data['items']:\n",
    "    print(buscado[\"title\"])"
   ]
  },
  {
   "cell_type": "markdown",
   "metadata": {},
   "source": [
    "Display the 20 latest earthquakes info (date, time, latitude, longitude and region name) by the EMSC as a pandas dataframe: "
   ]
  },
  {
   "cell_type": "code",
   "execution_count": null,
   "metadata": {},
   "outputs": [],
   "source": [
    "\n",
    "import re\n",
    "import requests\n",
    "from bs4 import BeautifulSoup\n",
    "import pandas as pd\n",
    "response = requests.get('https://www.emsc-csem.org/Earthquake/')\n",
    "soup = BeautifulSoup(response.text)\n",
    "items = soup.find_all(name=\"table\", class_=\"eqs table-scroll\")\n",
    "                       "
   ]
  },
  {
   "cell_type": "code",
   "execution_count": null,
   "metadata": {},
   "outputs": [],
   "source": [
    "items"
   ]
  },
  {
   "cell_type": "code",
   "execution_count": null,
   "metadata": {},
   "outputs": [],
   "source": [
    "lista = []\n",
    "\n",
    "for item in items:\n",
    "        # Determinar posicion\n",
    "        fecha = item.find(name='tbdat')\n",
    "        latitud = item.find(name='tblat')\n",
    "        lista.append({\n",
    "            'fecha': fecha,\n",
    "            'latitud': latitud        })\n",
    "    \n",
    "  \n"
   ]
  },
  {
   "cell_type": "code",
   "execution_count": null,
   "metadata": {},
   "outputs": [],
   "source": [
    "lista"
   ]
  },
  {
   "cell_type": "code",
   "execution_count": null,
   "metadata": {},
   "outputs": [],
   "source": []
  }
 ],
 "metadata": {
  "kernelspec": {
   "display_name": "Python 3",
   "language": "python",
   "name": "python3"
  },
  "language_info": {
   "codemirror_mode": {
    "name": "ipython",
    "version": 3
   },
   "file_extension": ".py",
   "mimetype": "text/x-python",
   "name": "python",
   "nbconvert_exporter": "python",
   "pygments_lexer": "ipython3",
   "version": "3.12.2"
  }
 },
 "nbformat": 4,
 "nbformat_minor": 2
}
